{
 "cells": [
  {
   "cell_type": "markdown",
   "id": "97303f09",
   "metadata": {},
   "source": []
  },
  {
   "cell_type": "markdown",
   "id": "ee6e1489",
   "metadata": {},
   "source": [
    "# Quantum-Classical Hybrid Autoencoder for Medical Image Classification\n",
    "\n",
    "This notebook implements a hybrid quantum-classical model for chest X-ray classification."
   ]
  },
  {
   "cell_type": "markdown",
   "id": "install-deps",
   "metadata": {},
   "source": [
    "## Installation (Run if packages missing)"
   ]
  },
  {
   "cell_type": "code",
   "execution_count": null,
   "id": "install-cell",
   "metadata": {},
   "outputs": [],
   "source": [
    "# Uncomment and run if you need to install packages\n",
    "# %pip install torch torchvision numpy pennylane medmnist"
   ]
  },
  {
   "cell_type": "markdown",
   "id": "imports-header",
   "metadata": {},
   "source": [
    "## Imports"
   ]
  },
  {
   "cell_type": "code",
   "execution_count": null,
   "id": "89333376",
   "metadata": {},
   "outputs": [],
   "source": [
    "import os\n",
    "# Set thread limits as strings (os.environ expects string values).\n",
    "# Use conservative defaults; adjust if you know your system.\n",
    "os.environ[\"OMP_NUM_THREADS\"] = \"4\"\n",
    "#os.environ[\"MKL_NUM_THREADS\"] = \"4\"\n",
    "#os.environ[\"OPENBLAS_NUM_THREADS\"] = \"4\"\n",
    "\n",
    "import numpy as np\n",
    "import torch\n",
    "import torch.nn as nn\n",
    "import pennylane as qml\n",
    "from pennylane.qnn import TorchLayer\n",
    "import matplotlib.pyplot as plt\n",
    "\n",
    "print(\"All imports successful!\")\n",
    "print(f\"PyTorch version: {torch.__version__}\")\n",
    "print(f\"PennyLane version: {qml.__version__}\")"
   ]
  },
  {
   "cell_type": "markdown",
   "id": "a4a80afb",
   "metadata": {},
   "source": [
    "## Settings"
   ]
  },
  {
   "cell_type": "code",
   "execution_count": null,
   "id": "c01a2bb6",
   "metadata": {},
   "outputs": [],
   "source": [
    "n_qubits = 6                 # set desired number of qubits\n",
    "n_layers = 5                 # set desired number of quantum layers\n",
    "latent_dim = 2**n_qubits     # latent dimension = 2^n_qubits\n",
    "img_size = 224               # set desired image size (28, 64, 128, 224)\n",
    "batch_size = 64\n",
    "n_epochs = 100\n",
    "n_workers = 3\n",
    "\n",
    "print(f\"Configuration:\")\n",
    "print(f\"  Qubits: {n_qubits}\")\n",
    "print(f\"  Quantum layers: {n_layers}\")\n",
    "print(f\"  Latent dimension: {latent_dim}\")\n",
    "print(f\"  Image size: {img_size}x{img_size}\")\n",
    "print(f\"  Batch size: {batch_size}\")\n",
    "print(f\"  Epochs: {n_epochs}\")\n",
    "print(f\"  Workers: {n_workers}\")"
   ]
  },
  {
   "cell_type": "markdown",
   "id": "d74359e0",
   "metadata": {},
   "source": [
    "## Load Data from preprocess.py\n",
    "\n",
    "We import the data loaders from our preprocess.py file to ensure consistency."
   ]
  },
  {
   "cell_type": "code",
   "execution_count": null,
   "id": "24e8e22c",
   "metadata": {},
   "outputs": [],
   "source": [
    "# Import data loaders from preprocess.py\n",
    "from preprocess import train_dataset, test_dataset\n",
    "\n",
    "print(f\"Data loaded successfully!\")\n",
    "print(f\"Training samples: {len(train_dataset)}\")\n",
    "print(f\"Test samples: {len(test_dataset)}\")"
   ]
  },
  {
   "cell_type": "markdown",
   "id": "e1fd582d",
   "metadata": {},
   "source": [
    "Filter Out Double-Labels"
   ]
  },
  {
   "cell_type": "code",
   "execution_count": null,
   "id": "14fc1bbb",
   "metadata": {},
   "outputs": [],
   "source": [
    "from torch.utils.data import Subset, DataLoader\n",
    "\n",
    "# Filter training set\n",
    "train_single_label_indices = []\n",
    "for i in range(len(train_dataset)):\n",
    "    _, label = train_dataset[i]\n",
    "    if label.sum() == 1:  # Only one condition present\n",
    "        train_single_label_indices.append(i)\n",
    "\n",
    "train_dataset = Subset(train_dataset, train_single_label_indices)\n",
    "\n",
    "# Filter test set\n",
    "test_single_label_indices = []\n",
    "for i in range(len(test_dataset)):\n",
    "    _, label = test_dataset[i]\n",
    "    if label.sum() == 1:\n",
    "        test_single_label_indices.append(i)\n",
    "\n",
    "test_dataset = Subset(test_dataset, test_single_label_indices)"
   ]
  },
  {
   "cell_type": "code",
   "execution_count": null,
   "id": "1c704561",
   "metadata": {},
   "outputs": [],
   "source": [
    "train_loader = DataLoader(train_dataset, batch_size=batch_size, shuffle=True, drop_last=True, num_workers=n_workers, pin_memory=True, persistent_workers=True)\n",
    "test_loader = DataLoader(test_dataset, batch_size=batch_size, shuffle=False, drop_last=False, num_workers=n_workers, pin_memory=True, persistent_workers=True)\n",
    "\n",
    "print(f\"Filtered Training: {len(train_dataset)} single-label images ({len(train_loader)} batches)\")\n",
    "print(f\"Filtered Test: {len(test_dataset)} single-label images ({len(test_loader)} batches)\")"
   ]
  },
  {
   "cell_type": "markdown",
   "id": "bbf487ff",
   "metadata": {},
   "source": [
    "## Classical Encoder"
   ]
  },
  {
   "cell_type": "code",
   "execution_count": null,
   "id": "07cc5c46",
   "metadata": {},
   "outputs": [],
   "source": [
    "class Encoder(nn.Module):\n",
    "    def __init__(self, latent_dim=64, img_size=224):\n",
    "        super().__init__()\n",
    "        self.encoder = nn.Sequential(\n",
    "            nn.Conv2d(1, 32, 3, stride=2, padding=1),\n",
    "            nn.ReLU(),\n",
    "            nn.Conv2d(32, 64, 3, stride=2, padding=1),\n",
    "            nn.ReLU(),\n",
    "            nn.Conv2d(64, 128, 3, stride=2, padding=1),\n",
    "            nn.ReLU(),\n",
    "            nn.AdaptiveAvgPool2d(1),\n",
    "            nn.Flatten(),\n",
    "            nn.Linear(128, latent_dim)\n",
    "        )\n",
    "        \n",
    "    def forward(self, x): return self.encoder(x)"
   ]
  },
  {
   "cell_type": "markdown",
   "id": "0ee4a989",
   "metadata": {},
   "source": [
    "## Quantum Circuit"
   ]
  },
  {
   "cell_type": "code",
   "execution_count": null,
   "id": "d6e4fddc",
   "metadata": {},
   "outputs": [],
   "source": [
    "# Use the default qubit simulator with backprop differentiation for PyTorch autograd compatibility.\n",
    "# `default.qubit` with `backprop` provides stable Torch integration and avoids GPU churn from the\n",
    "# test small batches first.\n",
    "dev = qml.device(\"default.qubit\", wires=n_qubits)\n",
    "\n",
    "@qml.qnode(dev, interface=\"torch\", diff_method=\"backprop\")\n",
    "def qnode(inputs, weights):\n",
    "    qml.AmplitudeEmbedding(inputs, wires=range(n_qubits), normalize=True, pad_with=0.0)\n",
    "    qml.StronglyEntanglingLayers(weights, wires=range(n_qubits))\n",
    "    return [qml.expval(qml.PauliZ(i)) for i in range(n_qubits)]\n",
    "\n",
    "class QuantumHead(nn.Module):\n",
    "    def __init__(self, n_layers, n_qubits, n_classes, latent_dim):\n",
    "        super().__init__()\n",
    "        self.n_qubits = n_qubits\n",
    "        self.encoder_fc = nn.Linear(latent_dim, 2**n_qubits)\n",
    "        nn.init.xavier_uniform_(self.encoder_fc.weight, gain=0.01)\n",
    "        nn.init.zeros_(self.encoder_fc.bias)\n",
    "        # Use a TorchLayer to batch the quantum evaluations and register quantum weights as module params\n",
    "        self.weight_shapes = {\"weights\": (n_layers, n_qubits, 3)}\n",
    "        self.qlayer = TorchLayer(qnode, self.weight_shapes)\n",
    "        # TorchLayer registers its own parameters; leave default initialization or customize if needed\n",
    "        self.readout = nn.Linear(n_qubits, n_classes)\n",
    "\n",
    "    def _prepare_quantum_input(self, h):\n",
    "        z = self.encoder_fc(h)\n",
    "        z = torch.nan_to_num(torch.clamp(z, -5, 5))\n",
    "        norm = torch.sqrt(torch.sum(z**2, dim=1, keepdim=True))# + 1e-10)\n",
    "        if (norm.squeeze() < 1e-6).any():\n",
    "            uniform = torch.ones(2**self.n_qubits, device=z.device) / np.sqrt(2**self.n_qubits)\n",
    "            z[norm.squeeze() < 1e-6] = uniform\n",
    "            norm = torch.sqrt(torch.sum(z**2, dim=1, keepdim=True))# + 1e-10)\n",
    "        return z / norm\n",
    "    \n",
    "    def forward(self, h):\n",
    "        z_norm = self._prepare_quantum_input(h)\n",
    "        expvals = self.qlayer(z_norm)\n",
    "        return self.readout(expvals)\n",
    "\n",
    "print(f\"Quantum device initialized: {dev}\")"
   ]
  },
  {
   "cell_type": "markdown",
   "id": "e8fb7783",
   "metadata": {},
   "source": [
    "## Hybrid Quantum-Classical Model"
   ]
  },
  {
   "cell_type": "code",
   "execution_count": null,
   "id": "fa6eb258",
   "metadata": {},
   "outputs": [],
   "source": [
    "class HybridQML(nn.Module):\n",
    "    def __init__(self, img_size, latent_dim, n_classes=14):\n",
    "        super().__init__()\n",
    "        self.enc = Encoder(latent_dim, img_size)\n",
    "        self.qhead = QuantumHead(n_layers, n_qubits, n_classes, latent_dim)\n",
    "    def forward(self, x, return_recon=False):\n",
    "        return self.qhead(self.enc(x))"
   ]
  },
  {
   "cell_type": "markdown",
   "id": "051572bf",
   "metadata": {},
   "source": [
    "## Training Setup"
   ]
  },
  {
   "cell_type": "code",
   "execution_count": null,
   "id": "849b0581",
   "metadata": {},
   "outputs": [],
   "source": [
    "device = torch.device(\"cuda\" if torch.cuda.is_available() else \"cpu\")\n",
    "#device = torch.device(\"cpu\")\n",
    "print(f\"Using device: {device}\")\n",
    "\n",
    "model = HybridQML(img_size=img_size, latent_dim=latent_dim, n_classes=14).to(device)\n",
    "optimizer = torch.optim.AdamW(\n",
    "    model.parameters(), \n",
    "    lr=5e-5,\n",
    "    weight_decay=1e-5,\n",
    "    eps=1e-7\n",
    ")\n",
    "criterion = nn.BCEWithLogitsLoss()\n",
    "\n",
    "print(f\"Model initialized: {sum(p.numel() for p in model.parameters()):,} parameters\\n\")"
   ]
  },
  {
   "cell_type": "code",
   "execution_count": null,
   "id": "a244a507",
   "metadata": {},
   "outputs": [],
   "source": [
    "import time\n",
    "\n",
    "def train_one_epoch(epoch):\n",
    "    model.train()\n",
    "    total, n = 0.0, 0\n",
    "    start_time = time.time()\n",
    "\n",
    "    \"\"\" print(f\"\\n{'='*60}\")\n",
    "    print(f\"EPOCH {epoch}/{n_epochs}\")\n",
    "    print(f\"{'='*60}\") \"\"\"\n",
    "    \n",
    "    for i, (imgs, labels) in enumerate(train_loader):\n",
    "        imgs, labels = imgs.to(device), labels.float().to(device)\n",
    "        logits = model(imgs, True)\n",
    "        loss = criterion(logits, labels)\n",
    "        optimizer.zero_grad(set_to_none=True)\n",
    "        loss.backward()\n",
    "        torch.nn.utils.clip_grad_norm_(model.parameters(), 1.0)\n",
    "        optimizer.step()\n",
    "        total += loss.item() * imgs.size(0)\n",
    "        n += imgs.size(0)\n",
    "        \n",
    "        \"\"\" if i % max(1, len(train_loader) // 2) == 0:\n",
    "            elapsed = time.time() - start_time\n",
    "            progress = (i + 1) / len(train_loader) * 100\n",
    "            print(f\"  [{progress:5.1f}%] Batch {i:3d}/{len(train_loader)} | Loss: {total/n:.4f} | Time: {elapsed:.1f}s\")\n",
    "         \"\"\"\n",
    "            \n",
    "    epoch_time = time.time() - start_time\n",
    "    avg_loss = total / n\n",
    "    print(f\"Epoch {epoch} complete in {epoch_time:.1f}s | Train Loss: {avg_loss:.4f}\")\n",
    "    return avg_loss, epoch_time\n",
    "\n",
    "@torch.no_grad()\n",
    "def evaluate():\n",
    "    model.eval()\n",
    "    total, n = 0.0, 0\n",
    "    for imgs, labels in test_loader:\n",
    "        imgs, labels = imgs.to(device), labels.float().to(device)\n",
    "        loss = criterion(model(imgs), labels)\n",
    "        total += loss.item() * imgs.size(0)\n",
    "        n += imgs.size(0)\n",
    "    return total / n\n"
   ]
  },
  {
   "cell_type": "markdown",
   "id": "28252c5d",
   "metadata": {},
   "source": [
    "## Run Training"
   ]
  },
  {
   "cell_type": "code",
   "execution_count": null,
   "id": "bd7e3c52",
   "metadata": {},
   "outputs": [],
   "source": [
    "print(f\"Training for {n_epochs} epochs...\\n\")\n",
    "\n",
    "# Track results\n",
    "train_losses = []\n",
    "test_losses = []\n",
    "epoch_times = []\n",
    "best_test_loss = float('inf')\n",
    "best_epoch = 0\n",
    "best_model = None  # will hold the best model checkpoint in-memory\n",
    "\n",
    "total_start = time.time()\n",
    "\n",
    "for epoch in range(1, n_epochs + 1):\n",
    "    print(f\"{'='*60}\")\n",
    "    train_loss, epoch_time = train_one_epoch(epoch)\n",
    "    test_loss = evaluate()\n",
    "    \n",
    "    train_losses.append(train_loss)\n",
    "    test_losses.append(test_loss)\n",
    "    epoch_times.append(epoch_time)\n",
    "    \n",
    "    # Track best model\n",
    "    if test_loss < best_test_loss:\n",
    "        best_test_loss = test_loss\n",
    "        best_epoch = epoch\n",
    "        # Keep checkpoint in a Python object and defer disk write until after training\n",
    "        best_model = {\n",
    "            'epoch': epoch,\n",
    "            'model_state_dict': model.state_dict(),\n",
    "            'optimizer_state_dict': optimizer.state_dict(),\n",
    "            'train_loss': train_loss,\n",
    "            'test_loss': test_loss,\n",
    "        }\n",
    "        #print(f\"New best model stored in-memory (Test Loss: {test_loss:.4f})\")\n",
    "    \n",
    "    print(f\"Test Loss: {test_loss:.4f} | Best: {best_test_loss:.4f} (Epoch {best_epoch})\")\n",
    "\n",
    "total_time = time.time() - total_start\n",
    "print(f\"\\nTraining complete in {total_time/60:.2f} minutes.\")\n",
    "\n",
    "# After training, write the best model to disk once (if found)\n",
    "if best_model is not None:\n",
    "    torch.save(best_model, 'best_model.pt')\n",
    "    print(f\"Best model (epoch {best_model['epoch']}) written to: best_model.pt (Test Loss: {best_model['test_loss']:.4f})\")\n",
    "else:\n",
    "    print(\"No best model found during training; nothing written to disk.\")"
   ]
  },
  {
   "cell_type": "markdown",
   "id": "aca07703",
   "metadata": {},
   "source": [
    "Results Summary"
   ]
  },
  {
   "cell_type": "code",
   "execution_count": null,
   "id": "cc2e8c7a",
   "metadata": {},
   "outputs": [],
   "source": [
    "print(f\"Training Statistics:\")\n",
    "print(f\"  Total epochs: {n_epochs}\")\n",
    "print(f\"  Total time: {total_time/60:.1f} minutes ({total_time:.1f} seconds)\")\n",
    "print(f\"  Average time per epoch: {np.mean(epoch_times):.1f} seconds\")\n",
    "print(f\"\\nLoss Progression:\")\n",
    "print(f\"  Initial train loss: {train_losses[0]:.4f}\")\n",
    "print(f\"  Final train loss: {train_losses[-1]:.4f}\")\n",
    "print(f\"  Improvement: {(train_losses[0] - train_losses[-1])/train_losses[0]*100:.1f}%\")\n",
    "print(f\"\\nInitial test loss: {test_losses[0]:.4f}\")\n",
    "print(f\"  Final test loss: {test_losses[-1]:.4f}\")\n",
    "print(f\"  Best test loss: {best_test_loss:.4f} (Epoch {best_epoch})\")\n",
    "print(f\"  Improvement: {(test_losses[0] - best_test_loss)/test_losses[0]*100:.1f}%\")\n",
    "print(f\"\\nModel saved as: best_model.pt\")\n",
    "print(f\"\\nPerformance:\")\n",
    "print(f\"  Training time: {total_time/60:.1f} minutes\")"
   ]
  },
  {
   "cell_type": "code",
   "execution_count": null,
   "id": "8ef76e69",
   "metadata": {},
   "outputs": [],
   "source": [
    "# Plot training curves\n",
    "plt.figure(figsize=(12, 4))\n",
    "\n",
    "# Loss plot\n",
    "plt.subplot(1, 2, 1)\n",
    "epochs_range = range(1, n_epochs + 1)\n",
    "plt.plot(epochs_range, train_losses, 'b', label='Train Loss', linewidth=2)\n",
    "plt.plot(epochs_range, test_losses, 'r', label='Test Loss', linewidth=2)\n",
    "plt.axhline(y=best_test_loss, color='g', linestyle='--', label=f'Best Test ({best_test_loss:.4f})', linewidth=1)\n",
    "plt.xlabel('Epoch', fontsize=12)\n",
    "plt.ylabel('Loss', fontsize=12)\n",
    "plt.title('Training Progress', fontsize=14, fontweight='bold')\n",
    "plt.legend(fontsize=10)\n",
    "plt.grid(True, alpha=0.3)\n",
    "\n",
    "# Time plot\n",
    "plt.subplot(1, 2, 2)\n",
    "plt.bar(epochs_range, epoch_times, color='steelblue', alpha=0.7)\n",
    "plt.axhline(y=np.mean(epoch_times), color='r', linestyle='--', label=f'Average ({np.mean(epoch_times):.1f}s)', linewidth=2)\n",
    "plt.xlabel('Epoch', fontsize=12)\n",
    "plt.ylabel('Time (seconds)', fontsize=12)\n",
    "plt.title('Time per Epoch', fontsize=14, fontweight='bold')\n",
    "plt.legend(fontsize=10)\n",
    "plt.grid(True, alpha=0.3, axis='y')\n",
    "\n",
    "plt.tight_layout()\n",
    "plt.savefig('training_results.png', dpi=150, bbox_inches='tight')\n",
    "print(\"\\nTraining curves saved as: training_results.png\")\n",
    "plt.show()"
   ]
  },
  {
   "cell_type": "markdown",
   "id": "dcf34710",
   "metadata": {},
   "source": [
    "Save Final Model"
   ]
  },
  {
   "cell_type": "code",
   "execution_count": null,
   "id": "40136c53",
   "metadata": {},
   "outputs": [],
   "source": [
    "# Save final model and training history\n",
    "torch.save({\n",
    "    'n_epochs': n_epochs,\n",
    "    'final_epoch': n_epochs,\n",
    "    'model_state_dict': model.state_dict(),\n",
    "    'optimizer_state_dict': optimizer.state_dict(),\n",
    "    'train_losses': train_losses,\n",
    "    'test_losses': test_losses,\n",
    "    'epoch_times': epoch_times,\n",
    "    'best_test_loss': best_test_loss,\n",
    "    'best_epoch': best_epoch,\n",
    "    'config': {\n",
    "        'n_qubits': n_qubits,\n",
    "        'n_layers': n_layers,\n",
    "        'latent_dim': latent_dim,\n",
    "        'img_size': img_size,\n",
    "        'batch_size': batch_size,\n",
    "    }\n",
    "}, 'final_model_complete.pt')\n",
    "\n",
    "print(\"\\nComplete training history saved as: final_model_complete.pt\")\n",
    "print(\"\\nThis includes:\")\n",
    "print(\"  - Final model weights\")\n",
    "print(\"  - All loss curves\")\n",
    "print(\"  - Training times\")\n",
    "print(\"  - Configuration\")"
   ]
  }
 ],
 "metadata": {
  "kernelspec": {
   "display_name": "Python 3",
   "language": "python",
   "name": "python3"
  },
  "language_info": {
   "codemirror_mode": {
    "name": "ipython",
    "version": 3
   },
   "file_extension": ".py",
   "mimetype": "text/x-python",
   "name": "python",
   "nbconvert_exporter": "python",
   "pygments_lexer": "ipython3",
   "version": "3.13.9"
  }
 },
 "nbformat": 4,
 "nbformat_minor": 5
}
